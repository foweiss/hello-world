{
  "nbformat": 4,
  "nbformat_minor": 0,
  "metadata": {
    "colab": {
      "name": "Final project.ipynb",
      "provenance": [],
      "include_colab_link": true
    },
    "kernelspec": {
      "name": "python3",
      "display_name": "Python 3"
    }
  },
  "cells": [
    {
      "cell_type": "markdown",
      "metadata": {
        "id": "view-in-github",
        "colab_type": "text"
      },
      "source": [
        "<a href=\"https://colab.research.google.com/github/foweiss/hello-world/blob/master/Final_project.ipynb\" target=\"_parent\"><img src=\"https://colab.research.google.com/assets/colab-badge.svg\" alt=\"Open In Colab\"/></a>"
      ]
    },
    {
      "cell_type": "markdown",
      "metadata": {
        "id": "3GZfPJyhsMOT",
        "colab_type": "text"
      },
      "source": [
        "Performance of Simple Neural Network (NN) vs Convolutional Neural Network (CNN) in handwritten digit recognition using MNIST Dataset"
      ]
    },
    {
      "cell_type": "markdown",
      "metadata": {
        "id": "JG46G4zbsvcB",
        "colab_type": "text"
      },
      "source": [
        "1- The simple neural network stucture is:\n",
        "\n",
        "\n",
        "*   Input layer has 784 inputs (28*28)\n",
        "*   2 fully connected hidden layers each having 384 neurons\n",
        "*   Output layer having 10 neurons that correspond to the 10 classes\n",
        "\n",
        "\n",
        "\n"
      ]
    },
    {
      "cell_type": "code",
      "metadata": {
        "id": "k-9miQY2BeUu",
        "colab_type": "code",
        "colab": {}
      },
      "source": [
        "!pip install --upgrade tensorflow"
      ],
      "execution_count": 0,
      "outputs": []
    },
    {
      "cell_type": "code",
      "metadata": {
        "id": "A5ra0EZXBTNy",
        "colab_type": "code",
        "colab": {
          "base_uri": "https://localhost:8080/",
          "height": 36
        },
        "outputId": "99e941d5-82f2-4d82-fe98-c3178d716668"
      },
      "source": [
        "import tensorflow as tf\n",
        "tf.__version__"
      ],
      "execution_count": 1,
      "outputs": [
        {
          "output_type": "execute_result",
          "data": {
            "text/plain": [
              "'2.0.0'"
            ]
          },
          "metadata": {
            "tags": []
          },
          "execution_count": 1
        }
      ]
    },
    {
      "cell_type": "code",
      "metadata": {
        "id": "endY0iMXLnx9",
        "colab_type": "code",
        "colab": {}
      },
      "source": [
        "import numpy as np\n",
        "from tensorflow import keras\n",
        "from keras.datasets import mnist\n",
        "from keras import backend as K"
      ],
      "execution_count": 0,
      "outputs": []
    },
    {
      "cell_type": "code",
      "metadata": {
        "id": "_AcOH9aaTlib",
        "colab_type": "code",
        "colab": {}
      },
      "source": [
        "# Import data split as train and test sets\n",
        "(x_train, y_train), (x_test, y_test) = mnist.load_data()\n",
        "\n",
        "# Number of classes (0, 1, 2 ,... ,9)\n",
        "num_classes = 10\n",
        "\n",
        "# Convert class vectors to binary class matrices\n",
        "y_train = keras.utils.to_categorical(y_train, num_classes)\n",
        "y_test = keras.utils.to_categorical(y_test, num_classes)\n",
        "\n",
        "# Reshape data for input layer of NN\n",
        "x_train_r = x_train.reshape(60000, 784)\n",
        "x_test_r = x_test.reshape(10000, 784)\n",
        "# Convert data to float type\n",
        "x_train_r = x_train_r.astype('float32')\n",
        "x_test_r = x_test_r.astype('float32')\n",
        "# Normalize data\n",
        "x_train_r /= 255\n",
        "x_test_r /= 255"
      ],
      "execution_count": 0,
      "outputs": []
    },
    {
      "cell_type": "code",
      "metadata": {
        "id": "2Mz38tdWV24v",
        "colab_type": "code",
        "colab": {
          "base_uri": "https://localhost:8080/",
          "height": 354
        },
        "outputId": "7b85ed2a-2649-4ba3-8b59-3d6ca12bcfe1"
      },
      "source": [
        "# Simple NN\n",
        "model_nn = tf.keras.models.Sequential()\n",
        "model_nn.add(tf.keras.layers.Dense(384, activation=\"relu\",  input_shape=(784,)))\n",
        "model_nn.add(tf.keras.layers.Dropout(0.2))\n",
        "model_nn.add(tf.keras.layers.Dense(384, activation=\"relu\"))\n",
        "model_nn.add(tf.keras.layers.Dropout(0.2))\n",
        "model_nn.add(tf.keras.layers.Dense(num_classes, activation=\"softmax\"))\n",
        "\n",
        "\n",
        "model_nn.summary()"
      ],
      "execution_count": 21,
      "outputs": [
        {
          "output_type": "stream",
          "text": [
            "Model: \"sequential_4\"\n",
            "_________________________________________________________________\n",
            "Layer (type)                 Output Shape              Param #   \n",
            "=================================================================\n",
            "dense_12 (Dense)             (None, 384)               301440    \n",
            "_________________________________________________________________\n",
            "dropout (Dropout)            (None, 384)               0         \n",
            "_________________________________________________________________\n",
            "dense_13 (Dense)             (None, 384)               147840    \n",
            "_________________________________________________________________\n",
            "dropout_1 (Dropout)          (None, 384)               0         \n",
            "_________________________________________________________________\n",
            "dense_14 (Dense)             (None, 10)                3850      \n",
            "=================================================================\n",
            "Total params: 453,130\n",
            "Trainable params: 453,130\n",
            "Non-trainable params: 0\n",
            "_________________________________________________________________\n"
          ],
          "name": "stdout"
        }
      ]
    },
    {
      "cell_type": "code",
      "metadata": {
        "id": "h-6bOnhtfhvl",
        "colab_type": "code",
        "colab": {
          "base_uri": "https://localhost:8080/",
          "height": 467
        },
        "outputId": "3acb82c6-ffd8-465e-870d-8d252d919431"
      },
      "source": [
        "model_nn.compile(loss='categorical_crossentropy',\n",
        "                 optimizer='sgd',\n",
        "                 metrics=['accuracy'])\n",
        "history_nn = model_nn.fit(x_train_r, y_train,\n",
        "                    epochs=10,\n",
        "                    verbose=1,\n",
        "                    validation_data=(x_test_r, y_test))\n",
        "score = model_nn.evaluate(x_test_r, y_test, verbose=0)\n",
        "print('Test loss_nn:', score[0])\n",
        "print('Test accuracy_nn:', score[1])"
      ],
      "execution_count": 22,
      "outputs": [
        {
          "output_type": "stream",
          "text": [
            "Train on 60000 samples, validate on 10000 samples\n",
            "Epoch 1/10\n",
            "60000/60000 [==============================] - 13s 215us/sample - loss: 0.6737 - accuracy: 0.8091 - val_loss: 0.3095 - val_accuracy: 0.9119\n",
            "Epoch 2/10\n",
            "60000/60000 [==============================] - 12s 206us/sample - loss: 0.3287 - accuracy: 0.9035 - val_loss: 0.2398 - val_accuracy: 0.9309\n",
            "Epoch 3/10\n",
            "60000/60000 [==============================] - 12s 206us/sample - loss: 0.2662 - accuracy: 0.9230 - val_loss: 0.2021 - val_accuracy: 0.9422\n",
            "Epoch 4/10\n",
            "60000/60000 [==============================] - 13s 209us/sample - loss: 0.2226 - accuracy: 0.9349 - val_loss: 0.1702 - val_accuracy: 0.9493\n",
            "Epoch 5/10\n",
            "60000/60000 [==============================] - 13s 212us/sample - loss: 0.1968 - accuracy: 0.9423 - val_loss: 0.1520 - val_accuracy: 0.9554\n",
            "Epoch 6/10\n",
            "60000/60000 [==============================] - 13s 210us/sample - loss: 0.1765 - accuracy: 0.9477 - val_loss: 0.1381 - val_accuracy: 0.9590\n",
            "Epoch 7/10\n",
            "60000/60000 [==============================] - 12s 206us/sample - loss: 0.1594 - accuracy: 0.9536 - val_loss: 0.1284 - val_accuracy: 0.9611\n",
            "Epoch 8/10\n",
            "60000/60000 [==============================] - 13s 219us/sample - loss: 0.1451 - accuracy: 0.9575 - val_loss: 0.1180 - val_accuracy: 0.9648\n",
            "Epoch 9/10\n",
            "60000/60000 [==============================] - 13s 213us/sample - loss: 0.1329 - accuracy: 0.9612 - val_loss: 0.1089 - val_accuracy: 0.9668\n",
            "Epoch 10/10\n",
            "60000/60000 [==============================] - 12s 206us/sample - loss: 0.1245 - accuracy: 0.9645 - val_loss: 0.1046 - val_accuracy: 0.9687\n",
            "Test loss_nn: 0.10460061437673866\n",
            "Test accuracy_nn: 0.9687\n"
          ],
          "name": "stdout"
        }
      ]
    },
    {
      "cell_type": "markdown",
      "metadata": {
        "id": "LeGIyGCoKH73",
        "colab_type": "text"
      },
      "source": [
        "2- The CNN structure is:\n",
        "\n",
        "\n",
        "*   2D Convolutional layer with 32 filters\n",
        "*   2D Convolutional layer with 64 filters\n",
        "*   MaxPooling layer of size 2x2\n",
        "*   Flatten layer to reshape array\n",
        "*   Fully connected layer of 128 neurons\n",
        "*   Output layer having 10 neurons that correspond to the 10 classes\n",
        "\n"
      ]
    },
    {
      "cell_type": "code",
      "metadata": {
        "id": "N90gf2et9c3l",
        "colab_type": "code",
        "colab": {
          "base_uri": "https://localhost:8080/",
          "height": 466
        },
        "outputId": "749ab3c4-cee5-4875-c7a9-73442868131e"
      },
      "source": [
        "# input image dimensions\n",
        "img_rows, img_cols = 28, 28\n",
        "\n",
        "if K.image_data_format() == 'channels_first':\n",
        "    x_train = x_train.reshape(x_train.shape[0], 1, img_rows, img_cols)\n",
        "    x_test = x_test.reshape(x_test.shape[0], 1, img_rows, img_cols)\n",
        "    input_shape = (1, img_rows, img_cols)\n",
        "else:\n",
        "    x_train = x_train.reshape(x_train.shape[0], img_rows, img_cols, 1)\n",
        "    x_test = x_test.reshape(x_test.shape[0], img_rows, img_cols, 1)\n",
        "    input_shape = (img_rows, img_cols, 1)\n",
        "\n",
        "# Convert data to float type\n",
        "x_train = x_train.astype('float32')\n",
        "x_test = x_test.astype('float32')\n",
        "# Normalize data\n",
        "x_train /= 255\n",
        "x_test /= 255\n",
        "\n",
        "# CNN layers\n",
        "model_cnn = tf.keras.models.Sequential()\n",
        "model_cnn.add(tf.keras.layers.Conv2D(32, kernel_size=(3, 3),\n",
        "                 activation='relu',\n",
        "                 input_shape=input_shape))\n",
        "model_cnn.add(tf.keras.layers.Conv2D(64, (3, 3), activation='relu'))\n",
        "model_cnn.add(tf.keras.layers.MaxPooling2D(pool_size=(2, 2)))\n",
        "model_cnn.add(tf.keras.layers.Dropout(0.2))\n",
        "model_cnn.add(tf.keras.layers.Flatten())\n",
        "model_cnn.add(tf.keras.layers.Dense(128, activation='relu'))\n",
        "model_cnn.add(tf.keras.layers.Dropout(0.2))\n",
        "model_cnn.add(tf.keras.layers.Dense(num_classes, activation='softmax'))\n",
        "\n",
        "model_cnn.summary()"
      ],
      "execution_count": 40,
      "outputs": [
        {
          "output_type": "stream",
          "text": [
            "Model: \"sequential_15\"\n",
            "_________________________________________________________________\n",
            "Layer (type)                 Output Shape              Param #   \n",
            "=================================================================\n",
            "conv2d_20 (Conv2D)           (None, 26, 26, 32)        320       \n",
            "_________________________________________________________________\n",
            "conv2d_21 (Conv2D)           (None, 24, 24, 64)        18496     \n",
            "_________________________________________________________________\n",
            "max_pooling2d_10 (MaxPooling (None, 12, 12, 64)        0         \n",
            "_________________________________________________________________\n",
            "dropout_22 (Dropout)         (None, 12, 12, 64)        0         \n",
            "_________________________________________________________________\n",
            "flatten_13 (Flatten)         (None, 9216)              0         \n",
            "_________________________________________________________________\n",
            "dense_35 (Dense)             (None, 128)               1179776   \n",
            "_________________________________________________________________\n",
            "dropout_23 (Dropout)         (None, 128)               0         \n",
            "_________________________________________________________________\n",
            "dense_36 (Dense)             (None, 10)                1290      \n",
            "=================================================================\n",
            "Total params: 1,199,882\n",
            "Trainable params: 1,199,882\n",
            "Non-trainable params: 0\n",
            "_________________________________________________________________\n"
          ],
          "name": "stdout"
        }
      ]
    },
    {
      "cell_type": "code",
      "metadata": {
        "id": "igHD8JcrAX_b",
        "colab_type": "code",
        "colab": {
          "base_uri": "https://localhost:8080/",
          "height": 467
        },
        "outputId": "4d9f5504-b863-4171-f7d6-5beb868dc34e"
      },
      "source": [
        "# Compile and run CNN model\n",
        "model_cnn.compile(loss='categorical_crossentropy',\n",
        "                 optimizer='sgd',\n",
        "                 metrics=['accuracy'])\n",
        "\n",
        "model_cnn.fit(x_train, y_train,    \n",
        "          epochs=10,\n",
        "          verbose=1,\n",
        "          validation_data=(x_test, y_test))\n",
        "score = model_cnn.evaluate(x_test, y_test, verbose=0)\n",
        "print('Test loss_CNN:', score[0])\n",
        "print('Test accuracy_CNN:', score[1])"
      ],
      "execution_count": 41,
      "outputs": [
        {
          "output_type": "stream",
          "text": [
            "Train on 60000 samples, validate on 10000 samples\n",
            "Epoch 1/10\n",
            "60000/60000 [==============================] - 189s 3ms/sample - loss: 2.3016 - accuracy: 0.1116 - val_loss: 2.3011 - val_accuracy: 0.1135\n",
            "Epoch 2/10\n",
            "60000/60000 [==============================] - 188s 3ms/sample - loss: 2.3013 - accuracy: 0.1124 - val_loss: 2.3009 - val_accuracy: 0.1135\n",
            "Epoch 3/10\n",
            "60000/60000 [==============================] - 188s 3ms/sample - loss: 2.3013 - accuracy: 0.1124 - val_loss: 2.3010 - val_accuracy: 0.1135\n",
            "Epoch 4/10\n",
            "60000/60000 [==============================] - 188s 3ms/sample - loss: 2.3013 - accuracy: 0.1124 - val_loss: 2.3011 - val_accuracy: 0.1135\n",
            "Epoch 5/10\n",
            "60000/60000 [==============================] - 189s 3ms/sample - loss: 2.3013 - accuracy: 0.1124 - val_loss: 2.3010 - val_accuracy: 0.1135\n",
            "Epoch 6/10\n",
            "60000/60000 [==============================] - 189s 3ms/sample - loss: 2.3014 - accuracy: 0.1124 - val_loss: 2.3010 - val_accuracy: 0.1135\n",
            "Epoch 7/10\n",
            "60000/60000 [==============================] - 189s 3ms/sample - loss: 2.3013 - accuracy: 0.1124 - val_loss: 2.3010 - val_accuracy: 0.1135\n",
            "Epoch 8/10\n",
            "60000/60000 [==============================] - 189s 3ms/sample - loss: 2.3013 - accuracy: 0.1124 - val_loss: 2.3010 - val_accuracy: 0.1135\n",
            "Epoch 9/10\n",
            "60000/60000 [==============================] - 189s 3ms/sample - loss: 2.3013 - accuracy: 0.1124 - val_loss: 2.3011 - val_accuracy: 0.1135\n",
            "Epoch 10/10\n",
            "60000/60000 [==============================] - 189s 3ms/sample - loss: 2.3013 - accuracy: 0.1124 - val_loss: 2.3010 - val_accuracy: 0.1135\n",
            "Test loss_CNN: 2.3009527366638185\n",
            "Test accuracy_CNN: 0.1135\n"
          ],
          "name": "stdout"
        }
      ]
    },
    {
      "cell_type": "markdown",
      "metadata": {
        "id": "vuNqkLITNmfo",
        "colab_type": "text"
      },
      "source": [
        "Results\n",
        "\n",
        "For this example, the CNN model did not work properly, it took 32 minutes to train and there are close to 1.2 million trainable parameters.\n",
        "On the other hand, the simple NN model took less than 3 minutes to train, had a test accuracy of 96.87% and had 453,130 trainable parameters (about one third of the CNN).\n",
        "\n",
        "\n",
        "\n",
        "Conclusion\n",
        "\n",
        "For the MNIST handwritten digit recognition, a simple neural network gives acceptable results.\n"
      ]
    }
  ]
}