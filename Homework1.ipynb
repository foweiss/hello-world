{
  "nbformat": 4,
  "nbformat_minor": 0,
  "metadata": {
    "colab": {
      "name": "In class 3 exercise.ipynb",
      "provenance": [],
      "include_colab_link": true
    },
    "kernelspec": {
      "name": "python3",
      "display_name": "Python 3"
    }
  },
  "cells": [
    {
      "cell_type": "markdown",
      "metadata": {
        "id": "view-in-github",
        "colab_type": "text"
      },
      "source": [
        "<a href=\"https://colab.research.google.com/github/foweiss/hello-world/blob/master/Homework1.ipynb\" target=\"_parent\"><img src=\"https://colab.research.google.com/assets/colab-badge.svg\" alt=\"Open In Colab\"/></a>"
      ]
    },
    {
      "cell_type": "code",
      "metadata": {
        "id": "ykBdVPpRaLYq",
        "colab_type": "code",
        "outputId": "3cbfdec1-42af-41dd-c69d-0b0d0d76d063",
        "colab": {
          "base_uri": "https://localhost:8080/",
          "height": 673
        }
      },
      "source": [
        "!pip install --upgrade tensorflow"
      ],
      "execution_count": 0,
      "outputs": [
        {
          "output_type": "stream",
          "text": [
            "Requirement already up-to-date: tensorflow in /usr/local/lib/python3.6/dist-packages (2.0.0)\n",
            "Requirement already satisfied, skipping upgrade: astor>=0.6.0 in /usr/local/lib/python3.6/dist-packages (from tensorflow) (0.8.0)\n",
            "Requirement already satisfied, skipping upgrade: tensorflow-estimator<2.1.0,>=2.0.0 in /usr/local/lib/python3.6/dist-packages (from tensorflow) (2.0.1)\n",
            "Requirement already satisfied, skipping upgrade: gast==0.2.2 in /usr/local/lib/python3.6/dist-packages (from tensorflow) (0.2.2)\n",
            "Requirement already satisfied, skipping upgrade: numpy<2.0,>=1.16.0 in /usr/local/lib/python3.6/dist-packages (from tensorflow) (1.17.3)\n",
            "Requirement already satisfied, skipping upgrade: grpcio>=1.8.6 in /usr/local/lib/python3.6/dist-packages (from tensorflow) (1.15.0)\n",
            "Requirement already satisfied, skipping upgrade: wheel>=0.26 in /usr/local/lib/python3.6/dist-packages (from tensorflow) (0.33.6)\n",
            "Requirement already satisfied, skipping upgrade: google-pasta>=0.1.6 in /usr/local/lib/python3.6/dist-packages (from tensorflow) (0.1.7)\n",
            "Requirement already satisfied, skipping upgrade: keras-preprocessing>=1.0.5 in /usr/local/lib/python3.6/dist-packages (from tensorflow) (1.1.0)\n",
            "Requirement already satisfied, skipping upgrade: wrapt>=1.11.1 in /usr/local/lib/python3.6/dist-packages (from tensorflow) (1.11.2)\n",
            "Requirement already satisfied, skipping upgrade: absl-py>=0.7.0 in /usr/local/lib/python3.6/dist-packages (from tensorflow) (0.8.1)\n",
            "Requirement already satisfied, skipping upgrade: protobuf>=3.6.1 in /usr/local/lib/python3.6/dist-packages (from tensorflow) (3.10.0)\n",
            "Requirement already satisfied, skipping upgrade: keras-applications>=1.0.8 in /usr/local/lib/python3.6/dist-packages (from tensorflow) (1.0.8)\n",
            "Requirement already satisfied, skipping upgrade: tensorboard<2.1.0,>=2.0.0 in /usr/local/lib/python3.6/dist-packages (from tensorflow) (2.0.1)\n",
            "Requirement already satisfied, skipping upgrade: termcolor>=1.1.0 in /usr/local/lib/python3.6/dist-packages (from tensorflow) (1.1.0)\n",
            "Requirement already satisfied, skipping upgrade: six>=1.10.0 in /usr/local/lib/python3.6/dist-packages (from tensorflow) (1.12.0)\n",
            "Requirement already satisfied, skipping upgrade: opt-einsum>=2.3.2 in /usr/local/lib/python3.6/dist-packages (from tensorflow) (3.1.0)\n",
            "Requirement already satisfied, skipping upgrade: setuptools in /usr/local/lib/python3.6/dist-packages (from protobuf>=3.6.1->tensorflow) (41.4.0)\n",
            "Requirement already satisfied, skipping upgrade: h5py in /usr/local/lib/python3.6/dist-packages (from keras-applications>=1.0.8->tensorflow) (2.8.0)\n",
            "Requirement already satisfied, skipping upgrade: markdown>=2.6.8 in /usr/local/lib/python3.6/dist-packages (from tensorboard<2.1.0,>=2.0.0->tensorflow) (3.1.1)\n",
            "Requirement already satisfied, skipping upgrade: google-auth<2,>=1.6.3 in /usr/local/lib/python3.6/dist-packages (from tensorboard<2.1.0,>=2.0.0->tensorflow) (1.6.3)\n",
            "Requirement already satisfied, skipping upgrade: werkzeug>=0.11.15 in /usr/local/lib/python3.6/dist-packages (from tensorboard<2.1.0,>=2.0.0->tensorflow) (0.16.0)\n",
            "Requirement already satisfied, skipping upgrade: google-auth-oauthlib<0.5,>=0.4.1 in /usr/local/lib/python3.6/dist-packages (from tensorboard<2.1.0,>=2.0.0->tensorflow) (0.4.1)\n",
            "Requirement already satisfied, skipping upgrade: pyasn1-modules>=0.2.1 in /usr/local/lib/python3.6/dist-packages (from google-auth<2,>=1.6.3->tensorboard<2.1.0,>=2.0.0->tensorflow) (0.2.7)\n",
            "Requirement already satisfied, skipping upgrade: cachetools>=2.0.0 in /usr/local/lib/python3.6/dist-packages (from google-auth<2,>=1.6.3->tensorboard<2.1.0,>=2.0.0->tensorflow) (3.1.1)\n",
            "Requirement already satisfied, skipping upgrade: rsa>=3.1.4 in /usr/local/lib/python3.6/dist-packages (from google-auth<2,>=1.6.3->tensorboard<2.1.0,>=2.0.0->tensorflow) (4.0)\n",
            "Requirement already satisfied, skipping upgrade: requests-oauthlib>=0.7.0 in /usr/local/lib/python3.6/dist-packages (from google-auth-oauthlib<0.5,>=0.4.1->tensorboard<2.1.0,>=2.0.0->tensorflow) (1.2.0)\n",
            "Requirement already satisfied, skipping upgrade: pyasn1<0.5.0,>=0.4.6 in /usr/local/lib/python3.6/dist-packages (from pyasn1-modules>=0.2.1->google-auth<2,>=1.6.3->tensorboard<2.1.0,>=2.0.0->tensorflow) (0.4.7)\n",
            "Requirement already satisfied, skipping upgrade: requests>=2.0.0 in /usr/local/lib/python3.6/dist-packages (from requests-oauthlib>=0.7.0->google-auth-oauthlib<0.5,>=0.4.1->tensorboard<2.1.0,>=2.0.0->tensorflow) (2.21.0)\n",
            "Requirement already satisfied, skipping upgrade: oauthlib>=3.0.0 in /usr/local/lib/python3.6/dist-packages (from requests-oauthlib>=0.7.0->google-auth-oauthlib<0.5,>=0.4.1->tensorboard<2.1.0,>=2.0.0->tensorflow) (3.1.0)\n",
            "Requirement already satisfied, skipping upgrade: chardet<3.1.0,>=3.0.2 in /usr/local/lib/python3.6/dist-packages (from requests>=2.0.0->requests-oauthlib>=0.7.0->google-auth-oauthlib<0.5,>=0.4.1->tensorboard<2.1.0,>=2.0.0->tensorflow) (3.0.4)\n",
            "Requirement already satisfied, skipping upgrade: urllib3<1.25,>=1.21.1 in /usr/local/lib/python3.6/dist-packages (from requests>=2.0.0->requests-oauthlib>=0.7.0->google-auth-oauthlib<0.5,>=0.4.1->tensorboard<2.1.0,>=2.0.0->tensorflow) (1.24.3)\n",
            "Requirement already satisfied, skipping upgrade: certifi>=2017.4.17 in /usr/local/lib/python3.6/dist-packages (from requests>=2.0.0->requests-oauthlib>=0.7.0->google-auth-oauthlib<0.5,>=0.4.1->tensorboard<2.1.0,>=2.0.0->tensorflow) (2019.9.11)\n",
            "Requirement already satisfied, skipping upgrade: idna<2.9,>=2.5 in /usr/local/lib/python3.6/dist-packages (from requests>=2.0.0->requests-oauthlib>=0.7.0->google-auth-oauthlib<0.5,>=0.4.1->tensorboard<2.1.0,>=2.0.0->tensorflow) (2.8)\n"
          ],
          "name": "stdout"
        }
      ]
    },
    {
      "cell_type": "code",
      "metadata": {
        "id": "kSDv5eqobIII",
        "colab_type": "code",
        "outputId": "e24631a8-2f82-4eec-adb1-23cf75e5a99c",
        "colab": {
          "base_uri": "https://localhost:8080/",
          "height": 36
        }
      },
      "source": [
        "import tensorflow as tf\n",
        "tf.__version__"
      ],
      "execution_count": 0,
      "outputs": [
        {
          "output_type": "execute_result",
          "data": {
            "text/plain": [
              "'2.0.0'"
            ]
          },
          "metadata": {
            "tags": []
          },
          "execution_count": 2
        }
      ]
    },
    {
      "cell_type": "code",
      "metadata": {
        "id": "0E_jKkqTZ1G_",
        "colab_type": "code",
        "outputId": "90d40ec9-3c59-4ec6-db50-19a80c783f45",
        "colab": {
          "base_uri": "https://localhost:8080/",
          "height": 36
        }
      },
      "source": [
        "# 1 & 2 - Import Boston Housing Dataset\n",
        "\n",
        "from tensorflow import keras\n",
        "from tensorflow.keras.models import Sequential\n",
        "from tensorflow.keras.layers import Dense\n",
        "from tensorflow.keras.optimizers import Adam\n",
        "from keras.datasets import boston_housing\n",
        "\n",
        "(X_train, y_train), (X_test, y_test) = boston_housing.load_data()"
      ],
      "execution_count": 0,
      "outputs": [
        {
          "output_type": "stream",
          "text": [
            "Using TensorFlow backend.\n"
          ],
          "name": "stderr"
        }
      ]
    },
    {
      "cell_type": "code",
      "metadata": {
        "colab_type": "code",
        "outputId": "1dd849c3-39a3-45c3-a7f9-0f53f737b3b1",
        "id": "6jrcOBoiHi9C",
        "colab": {
          "base_uri": "https://localhost:8080/",
          "height": 559
        }
      },
      "source": [
        "# 3 - Explore data\n",
        "\n",
        "print(X_train[: 5], y_train[: 5], X_test[: 5], y_test[: 5])"
      ],
      "execution_count": 0,
      "outputs": [
        {
          "output_type": "stream",
          "text": [
            "[[1.23247e+00 0.00000e+00 8.14000e+00 0.00000e+00 5.38000e-01 6.14200e+00\n",
            "  9.17000e+01 3.97690e+00 4.00000e+00 3.07000e+02 2.10000e+01 3.96900e+02\n",
            "  1.87200e+01]\n",
            " [2.17700e-02 8.25000e+01 2.03000e+00 0.00000e+00 4.15000e-01 7.61000e+00\n",
            "  1.57000e+01 6.27000e+00 2.00000e+00 3.48000e+02 1.47000e+01 3.95380e+02\n",
            "  3.11000e+00]\n",
            " [4.89822e+00 0.00000e+00 1.81000e+01 0.00000e+00 6.31000e-01 4.97000e+00\n",
            "  1.00000e+02 1.33250e+00 2.40000e+01 6.66000e+02 2.02000e+01 3.75520e+02\n",
            "  3.26000e+00]\n",
            " [3.96100e-02 0.00000e+00 5.19000e+00 0.00000e+00 5.15000e-01 6.03700e+00\n",
            "  3.45000e+01 5.98530e+00 5.00000e+00 2.24000e+02 2.02000e+01 3.96900e+02\n",
            "  8.01000e+00]\n",
            " [3.69311e+00 0.00000e+00 1.81000e+01 0.00000e+00 7.13000e-01 6.37600e+00\n",
            "  8.84000e+01 2.56710e+00 2.40000e+01 6.66000e+02 2.02000e+01 3.91430e+02\n",
            "  1.46500e+01]] [15.2 42.3 50.  21.1 17.7] [[1.80846e+01 0.00000e+00 1.81000e+01 0.00000e+00 6.79000e-01 6.43400e+00\n",
            "  1.00000e+02 1.83470e+00 2.40000e+01 6.66000e+02 2.02000e+01 2.72500e+01\n",
            "  2.90500e+01]\n",
            " [1.23290e-01 0.00000e+00 1.00100e+01 0.00000e+00 5.47000e-01 5.91300e+00\n",
            "  9.29000e+01 2.35340e+00 6.00000e+00 4.32000e+02 1.78000e+01 3.94950e+02\n",
            "  1.62100e+01]\n",
            " [5.49700e-02 0.00000e+00 5.19000e+00 0.00000e+00 5.15000e-01 5.98500e+00\n",
            "  4.54000e+01 4.81220e+00 5.00000e+00 2.24000e+02 2.02000e+01 3.96900e+02\n",
            "  9.74000e+00]\n",
            " [1.27346e+00 0.00000e+00 1.95800e+01 1.00000e+00 6.05000e-01 6.25000e+00\n",
            "  9.26000e+01 1.79840e+00 5.00000e+00 4.03000e+02 1.47000e+01 3.38920e+02\n",
            "  5.50000e+00]\n",
            " [7.15100e-02 0.00000e+00 4.49000e+00 0.00000e+00 4.49000e-01 6.12100e+00\n",
            "  5.68000e+01 3.74760e+00 3.00000e+00 2.47000e+02 1.85000e+01 3.95150e+02\n",
            "  8.44000e+00]] [ 7.2 18.8 19.  27.  22.2]\n"
          ],
          "name": "stdout"
        }
      ]
    },
    {
      "cell_type": "code",
      "metadata": {
        "id": "gy9uZrybaET2",
        "colab_type": "code",
        "outputId": "09e991b2-2a5b-41b0-86ed-bcd10ae23437",
        "colab": {
          "base_uri": "https://localhost:8080/",
          "height": 36
        }
      },
      "source": [
        "# Explore data\n",
        "\n",
        "print(X_train.shape, y_train.shape, X_test.shape, y_test.shape)"
      ],
      "execution_count": 0,
      "outputs": [
        {
          "output_type": "stream",
          "text": [
            "(404, 13) (404,) (102, 13) (102,)\n"
          ],
          "name": "stdout"
        }
      ]
    },
    {
      "cell_type": "code",
      "metadata": {
        "id": "ng7T2cpzd6v5",
        "colab_type": "code",
        "colab": {}
      },
      "source": [
        "# 4 - Normalize values using sklearn\n",
        "\n",
        "from sklearn.preprocessing import MinMaxScaler\n",
        "scaler=MinMaxScaler()\n",
        "X_train_minmax = scaler.fit_transform(X_train)\n",
        "X_test_minmax = scaler.fit_transform(X_test)"
      ],
      "execution_count": 0,
      "outputs": []
    },
    {
      "cell_type": "code",
      "metadata": {
        "id": "K8couuCrik17",
        "colab_type": "code",
        "colab": {}
      },
      "source": [
        "# 5 - Create custom activation function\n",
        "def my_half_relu(z):\n",
        "  return tf.maximum(0.5,z)\n",
        " \n",
        "# 6 - Create custom initializer\n",
        "def my_initializer(shape, dtype=tf.float32):    \n",
        "  stddev = tf.sqrt(2. / (shape[0] + shape[1]))    \n",
        "  return tf.random.normal(shape, stddev=stddev, dtype=dtype)\n",
        "  \n",
        "# 7 - Create custom loss function\n",
        "def my_loss (y_true, y_pred):\n",
        "  error = y_true - y_pred\n",
        "  is_small_error = tf.abs(error)<1\n",
        "  squared_loss = tf.square(error) - 0.5\n",
        "  linear_loss  = tf.abs(error) - 0.5\n",
        "  return tf.where(is_small_error, squared_loss, linear_loss)"
      ],
      "execution_count": 0,
      "outputs": []
    },
    {
      "cell_type": "code",
      "metadata": {
        "id": "tv_ezeJhTueZ",
        "colab_type": "code",
        "outputId": "5294e157-6020-4c56-d88f-868330e50331",
        "colab": {
          "base_uri": "https://localhost:8080/",
          "height": 1000
        }
      },
      "source": [
        "# 8 & 9 - Train model using custom functions\n",
        "\n",
        "my_model = Sequential()\n",
        "my_model.add(Dense(16, activation=my_half_relu, kernel_initializer=my_initializer, input_shape=(13,)))\n",
        "my_model.add(Dense(16, activation=my_half_relu, kernel_initializer=my_initializer))\n",
        "my_model.add(Dense(1))\n",
        "\n",
        "my_model.compile(optimizer='adam',\n",
        "              loss='mean_squared_error',\n",
        "              metrics=['accuracy'])\n",
        "\n",
        "\n",
        "\n",
        "my_model.fit(X_train_minmax , y_train, epochs=50, batch_size=4)"
      ],
      "execution_count": 0,
      "outputs": [
        {
          "output_type": "stream",
          "text": [
            "Train on 404 samples\n",
            "Epoch 1/50\n",
            "404/404 [==============================] - 1s 2ms/sample - loss: 593.5340 - accuracy: 0.0000e+00\n",
            "Epoch 2/50\n",
            "404/404 [==============================] - 0s 343us/sample - loss: 552.6116 - accuracy: 0.0000e+00\n",
            "Epoch 3/50\n",
            "404/404 [==============================] - 0s 366us/sample - loss: 516.4995 - accuracy: 0.0000e+00\n",
            "Epoch 4/50\n",
            "404/404 [==============================] - 0s 344us/sample - loss: 480.8432 - accuracy: 0.0000e+00\n",
            "Epoch 5/50\n",
            "404/404 [==============================] - 0s 361us/sample - loss: 355.8024 - accuracy: 0.0000e+00\n",
            "Epoch 6/50\n",
            "404/404 [==============================] - 0s 343us/sample - loss: 112.1287 - accuracy: 0.0000e+00\n",
            "Epoch 7/50\n",
            "404/404 [==============================] - 0s 360us/sample - loss: 86.7888 - accuracy: 0.0000e+00\n",
            "Epoch 8/50\n",
            "404/404 [==============================] - 0s 360us/sample - loss: 72.0213 - accuracy: 0.0000e+00\n",
            "Epoch 9/50\n",
            "404/404 [==============================] - 0s 350us/sample - loss: 63.1062 - accuracy: 0.0000e+00\n",
            "Epoch 10/50\n",
            "404/404 [==============================] - 0s 359us/sample - loss: 56.8761 - accuracy: 0.0000e+00\n",
            "Epoch 11/50\n",
            "404/404 [==============================] - 0s 348us/sample - loss: 52.4124 - accuracy: 0.0000e+00\n",
            "Epoch 12/50\n",
            "404/404 [==============================] - 0s 356us/sample - loss: 49.2617 - accuracy: 0.0000e+00\n",
            "Epoch 13/50\n",
            "404/404 [==============================] - 0s 351us/sample - loss: 46.3020 - accuracy: 0.0000e+00\n",
            "Epoch 14/50\n",
            "404/404 [==============================] - 0s 354us/sample - loss: 43.7835 - accuracy: 0.0000e+00\n",
            "Epoch 15/50\n",
            "404/404 [==============================] - 0s 337us/sample - loss: 42.0483 - accuracy: 0.0000e+00\n",
            "Epoch 16/50\n",
            "404/404 [==============================] - 0s 373us/sample - loss: 39.7555 - accuracy: 0.0000e+00\n",
            "Epoch 17/50\n",
            "404/404 [==============================] - 0s 376us/sample - loss: 38.1014 - accuracy: 0.0000e+00\n",
            "Epoch 18/50\n",
            "404/404 [==============================] - 0s 345us/sample - loss: 36.0993 - accuracy: 0.0000e+00\n",
            "Epoch 19/50\n",
            "404/404 [==============================] - 0s 350us/sample - loss: 34.4838 - accuracy: 0.0000e+00\n",
            "Epoch 20/50\n",
            "404/404 [==============================] - 0s 344us/sample - loss: 33.1074 - accuracy: 0.0000e+00\n",
            "Epoch 21/50\n",
            "404/404 [==============================] - 0s 363us/sample - loss: 31.5922 - accuracy: 0.0000e+00\n",
            "Epoch 22/50\n",
            "404/404 [==============================] - 0s 345us/sample - loss: 30.1493 - accuracy: 0.0000e+00\n",
            "Epoch 23/50\n",
            "404/404 [==============================] - 0s 362us/sample - loss: 28.8444 - accuracy: 0.0000e+00\n",
            "Epoch 24/50\n",
            "404/404 [==============================] - 0s 336us/sample - loss: 27.7307 - accuracy: 0.0000e+00\n",
            "Epoch 25/50\n",
            "404/404 [==============================] - 0s 369us/sample - loss: 27.0057 - accuracy: 0.0000e+00\n",
            "Epoch 26/50\n",
            "404/404 [==============================] - 0s 365us/sample - loss: 25.7973 - accuracy: 0.0000e+00\n",
            "Epoch 27/50\n",
            "404/404 [==============================] - 0s 359us/sample - loss: 24.6040 - accuracy: 0.0000e+00\n",
            "Epoch 28/50\n",
            "404/404 [==============================] - 0s 360us/sample - loss: 23.7762 - accuracy: 0.0000e+00\n",
            "Epoch 29/50\n",
            "404/404 [==============================] - 0s 350us/sample - loss: 23.0179 - accuracy: 0.0000e+00\n",
            "Epoch 30/50\n",
            "404/404 [==============================] - 0s 341us/sample - loss: 22.3193 - accuracy: 0.0000e+00\n",
            "Epoch 31/50\n",
            "404/404 [==============================] - 0s 338us/sample - loss: 21.6468 - accuracy: 0.0000e+00\n",
            "Epoch 32/50\n",
            "404/404 [==============================] - 0s 387us/sample - loss: 20.9517 - accuracy: 0.0000e+00\n",
            "Epoch 33/50\n",
            "404/404 [==============================] - 0s 340us/sample - loss: 20.3377 - accuracy: 0.0000e+00\n",
            "Epoch 34/50\n",
            "404/404 [==============================] - 0s 349us/sample - loss: 19.9379 - accuracy: 0.0000e+00\n",
            "Epoch 35/50\n",
            "404/404 [==============================] - 0s 355us/sample - loss: 19.3106 - accuracy: 0.0000e+00\n",
            "Epoch 36/50\n",
            "404/404 [==============================] - 0s 363us/sample - loss: 18.9992 - accuracy: 0.0000e+00\n",
            "Epoch 37/50\n",
            "404/404 [==============================] - 0s 336us/sample - loss: 18.7186 - accuracy: 0.0000e+00\n",
            "Epoch 38/50\n",
            "404/404 [==============================] - 0s 351us/sample - loss: 18.4280 - accuracy: 0.0000e+00\n",
            "Epoch 39/50\n",
            "404/404 [==============================] - 0s 357us/sample - loss: 18.0322 - accuracy: 0.0000e+00\n",
            "Epoch 40/50\n",
            "404/404 [==============================] - 0s 385us/sample - loss: 17.6100 - accuracy: 0.0000e+00\n",
            "Epoch 41/50\n",
            "404/404 [==============================] - 0s 365us/sample - loss: 17.3808 - accuracy: 0.0000e+00\n",
            "Epoch 42/50\n",
            "404/404 [==============================] - 0s 354us/sample - loss: 17.0456 - accuracy: 0.0000e+00\n",
            "Epoch 43/50\n",
            "404/404 [==============================] - 0s 353us/sample - loss: 16.9152 - accuracy: 0.0000e+00\n",
            "Epoch 44/50\n",
            "404/404 [==============================] - 0s 415us/sample - loss: 16.5526 - accuracy: 0.0000e+00\n",
            "Epoch 45/50\n",
            "404/404 [==============================] - 0s 353us/sample - loss: 16.6702 - accuracy: 0.0000e+00\n",
            "Epoch 46/50\n",
            "404/404 [==============================] - 0s 354us/sample - loss: 16.7395 - accuracy: 0.0000e+00\n",
            "Epoch 47/50\n",
            "404/404 [==============================] - 0s 361us/sample - loss: 16.1735 - accuracy: 0.0000e+00\n",
            "Epoch 48/50\n",
            "404/404 [==============================] - 0s 372us/sample - loss: 15.8169 - accuracy: 0.0000e+00\n",
            "Epoch 49/50\n",
            "404/404 [==============================] - 0s 351us/sample - loss: 15.7018 - accuracy: 0.0000e+00\n",
            "Epoch 50/50\n",
            "404/404 [==============================] - 0s 343us/sample - loss: 15.6065 - accuracy: 0.0000e+00\n"
          ],
          "name": "stdout"
        },
        {
          "output_type": "execute_result",
          "data": {
            "text/plain": [
              "<tensorflow.python.keras.callbacks.History at 0x7f76dac7f278>"
            ]
          },
          "metadata": {
            "tags": []
          },
          "execution_count": 11
        }
      ]
    }
  ]
}